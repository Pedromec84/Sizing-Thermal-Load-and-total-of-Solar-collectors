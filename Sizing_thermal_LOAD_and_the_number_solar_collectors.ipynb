{
  "nbformat": 4,
  "nbformat_minor": 0,
  "metadata": {
    "colab": {
      "provenance": []
    },
    "kernelspec": {
      "name": "python3",
      "display_name": "Python 3"
    },
    "language_info": {
      "name": "python"
    }
  },
  "cells": [
    {
      "cell_type": "markdown",
      "source": [
        "\n",
        "# Code for calculating the THERMAL LOAD required for heating swimming pools and sizing the number of flat solar collectors.\n",
        "\n",
        "# Part I - Estimation of solar irradiation using the Cresesb or NASA website (Parte I - Estimativa da irradiação solar utilizando o site do Cresesb ou da Nasa)\n",
        "# It is possible to determine the horizontal solar radiation using one of the following databases:\n",
        "\n",
        "1) http://www.cresesb.cepel.br/index.php?section=sundata, add Geographic Coordinate and use the value for Horizontal Plane solar radiation.\n",
        "2) https://power.larc.nasa.gov/data-access-viewer/, add Geographic Coordinate and use the value for Horizontal Plane solar radiation.\n",
        "\n",
        "Reference: Chapter 9.7 SWIMMING POOL HEATING LOADS, Duffie and Beckman (2020)"
      ],
      "metadata": {
        "id": "SoLfDy7zST6H"
      }
    },
    {
      "cell_type": "code",
      "source": [
        "!pip install CoolProp\n",
        "!pip install pvlib"
      ],
      "metadata": {
        "colab": {
          "base_uri": "https://localhost:8080/"
        },
        "id": "aCXVDQ6YpdkF",
        "outputId": "3485d257-345e-4285-9c93-b31e04824b6b"
      },
      "execution_count": null,
      "outputs": [
        {
          "output_type": "stream",
          "name": "stdout",
          "text": [
            "Looking in indexes: https://pypi.org/simple, https://us-python.pkg.dev/colab-wheels/public/simple/\n",
            "Collecting CoolProp\n",
            "  Downloading CoolProp-6.4.3.post1-cp310-cp310-manylinux_2_17_x86_64.manylinux2014_x86_64.whl (6.1 MB)\n",
            "\u001b[2K     \u001b[90m━━━━━━━━━━━━━━━━━━━━━━━━━━━━━━━━━━━━━━━━\u001b[0m \u001b[32m6.1/6.1 MB\u001b[0m \u001b[31m37.3 MB/s\u001b[0m eta \u001b[36m0:00:00\u001b[0m\n",
            "\u001b[?25hInstalling collected packages: CoolProp\n",
            "Successfully installed CoolProp-6.4.3.post1\n",
            "Looking in indexes: https://pypi.org/simple, https://us-python.pkg.dev/colab-wheels/public/simple/\n",
            "Collecting pvlib\n",
            "  Downloading pvlib-0.9.5-py3-none-any.whl (29.4 MB)\n",
            "\u001b[2K     \u001b[90m━━━━━━━━━━━━━━━━━━━━━━━━━━━━━━━━━━━━━━━━\u001b[0m \u001b[32m29.4/29.4 MB\u001b[0m \u001b[31m31.7 MB/s\u001b[0m eta \u001b[36m0:00:00\u001b[0m\n",
            "\u001b[?25hRequirement already satisfied: numpy>=1.16.0 in /usr/local/lib/python3.10/dist-packages (from pvlib) (1.22.4)\n",
            "Requirement already satisfied: pandas>=0.25.0 in /usr/local/lib/python3.10/dist-packages (from pvlib) (1.5.3)\n",
            "Requirement already satisfied: pytz in /usr/local/lib/python3.10/dist-packages (from pvlib) (2022.7.1)\n",
            "Requirement already satisfied: requests in /usr/local/lib/python3.10/dist-packages (from pvlib) (2.27.1)\n",
            "Requirement already satisfied: scipy>=1.4.0 in /usr/local/lib/python3.10/dist-packages (from pvlib) (1.10.1)\n",
            "Requirement already satisfied: h5py in /usr/local/lib/python3.10/dist-packages (from pvlib) (3.8.0)\n",
            "Requirement already satisfied: python-dateutil>=2.8.1 in /usr/local/lib/python3.10/dist-packages (from pandas>=0.25.0->pvlib) (2.8.2)\n",
            "Requirement already satisfied: urllib3<1.27,>=1.21.1 in /usr/local/lib/python3.10/dist-packages (from requests->pvlib) (1.26.15)\n",
            "Requirement already satisfied: certifi>=2017.4.17 in /usr/local/lib/python3.10/dist-packages (from requests->pvlib) (2022.12.7)\n",
            "Requirement already satisfied: charset-normalizer~=2.0.0 in /usr/local/lib/python3.10/dist-packages (from requests->pvlib) (2.0.12)\n",
            "Requirement already satisfied: idna<4,>=2.5 in /usr/local/lib/python3.10/dist-packages (from requests->pvlib) (3.4)\n",
            "Requirement already satisfied: six>=1.5 in /usr/local/lib/python3.10/dist-packages (from python-dateutil>=2.8.1->pandas>=0.25.0->pvlib) (1.16.0)\n",
            "Installing collected packages: pvlib\n",
            "Successfully installed pvlib-0.9.5\n"
          ]
        }
      ]
    },
    {
      "cell_type": "code",
      "source": [
        "import pandas as pd\n",
        "import pvlib\n",
        "\n",
        "# Criando uma série temporal com dados meteorológicos\n",
        "tz = 'Etc/GMT+3'  # Fuso horário\n",
        "#No Google maps, a latitude e a longitude podem ser obtidas clicando com o botão direito no local desejado. E utilizando o Google Earth, as informações de latitude e a longitude estão disponíveis no canto inferior direito da tela.\n",
        "lat = -30.035409581927556  # Latitude. \n",
        "lon = -51.197064246714239 # Longitude.\n",
        "alt = 33  # Altitude em metros. Utilizando o Google Earth, no canto inferior direito pode-se obter a altitude local.\n",
        "\n",
        "# Definindo as características da superfície inclinada\n",
        "surface_tilt = -30  # Inclinação em graus\n",
        "surface_azimuth = 180  # Azimute em graus\n",
        "\n",
        "date_range = pd.date_range(start='2022-01-01 00:00:00', end='2022-12-31 23:59:59', freq='1min', tz=tz)\n",
        "solpos = pvlib.solarposition.get_solarposition(date_range, lat, lon)\n",
        "dni_extra = pvlib.irradiance.get_extra_radiation(date_range)\n",
        "pressure = pvlib.atmosphere.alt2pres(alt)\n",
        "airmass = pvlib.atmosphere.get_relative_airmass(solpos['apparent_zenith'])\n",
        "pressure_corr = pvlib.atmosphere.get_absolute_airmass(airmass, pressure)\n",
        "linke_turbidity = pvlib.clearsky.lookup_linke_turbidity(date_range, lat, lon)\n",
        "solar_zenith = solpos['apparent_zenith']\n",
        "solar_azimuth = solpos['azimuth']\n",
        "diffuse_frac = pvlib.irradiance.get_ground_diffuse(surface_tilt, solar_azimuth)\n",
        "\n",
        "# Calculando a irradiação solar em superfície inclinada com o modelo de Perez\n",
        "dni = pvlib.irradiance.get_total_irradiance(surface_tilt, surface_azimuth, solar_zenith, solar_azimuth,\n",
        "                                            dni_extra, linke_turbidity, diffuse_frac, pressure_corr,\n",
        "                                            model='perez')\n",
        "\n",
        "# Obtendo a irradiância total em superfície inclinada a partir do dicionário retornado\n",
        "irrad_total = dni['poa_global']\n",
        "\n",
        "# Calculando a média da irradiância total na superfície\n",
        "irrad_total_media = dni['poa_global'].mean()\n",
        "\n",
        "# Imprimindo o valor da média da irradiância total na superfície em W/m²\n",
        "print(f\"Irradiância total média na superfície: {irrad_total_media:.2f} W/m²\")"
      ],
      "metadata": {
        "colab": {
          "base_uri": "https://localhost:8080/"
        },
        "id": "5XFY9O1xI9hP",
        "outputId": "0a7c1134-7d51-4cb5-c093-040c471c5dae"
      },
      "execution_count": null,
      "outputs": [
        {
          "output_type": "stream",
          "name": "stdout",
          "text": [
            "Irradiância total média na superfície: 423.29 W/m²\n"
          ]
        }
      ]
    },
    {
      "cell_type": "code",
      "source": [
        "# To use the value of horizontal plane (Irradiação solar diária média mensal [kWh/m2.dia])\n",
        "HSP = 4.43 # kWh/m2.dia Data obtained from one of the sites above (CRESESB or NASA). Here, it was used the CRESESB DATA for Porto Alegr - RS. \n",
        "HSP_MJ = HSP*3.6 #Convert to MJ/m2.dia\n",
        "\n",
        "print(f\"Irradiância total média no plano horizontal é: {HSP_MJ:.2f} MJ/m².dia de acordo com dados do CRESESB para Porto Alegre, RS.\")"
      ],
      "metadata": {
        "colab": {
          "base_uri": "https://localhost:8080/"
        },
        "id": "v4IrzukICIAk",
        "outputId": "7f17aa2b-4ab8-440f-a3c1-c82fd8949237"
      },
      "execution_count": null,
      "outputs": [
        {
          "output_type": "stream",
          "name": "stdout",
          "text": [
            "Irradiância total média no plano horizontal é: 15.95 MJ/m².dia de acordo com dados do CRESESB para Porto Alegre, RS.\n"
          ]
        }
      ]
    },
    {
      "cell_type": "markdown",
      "source": [
        "#Function to calculate the absorbed solar radiation in a period of N_days (Q_s)"
      ],
      "metadata": {
        "id": "8cPunAaGqGGf"
      }
    },
    {
      "cell_type": "code",
      "source": [
        "def Absorbed_solar_radiation(A, HSP_MJ, pst, abs, N_days):\n",
        "    \"\"\"\n",
        "    This function calculates the absorbed solar radiation in a period of N_days.\n",
        "    \n",
        "    Args:\n",
        "    - A: area of the swimming pool [m2]\n",
        "    - HSP_MJ: peak solar hour in MegaJoules (MJ)\n",
        "    - pst: pool surface transmittance\n",
        "    - abs: pool absorptance\n",
        "    - N_days: Number of days\n",
        "    - L_crv: L is the cube root of the house volume [m]\n",
        "    \n",
        "    Returns:\n",
        "    - Absorbed solar radiation in a period of N_days.\n",
        "    \"\"\"\n",
        "    Q_s = (A * HSP_MJ*pst*abs*N_days)/1000 # absorbed solar radiation (Q_s)\n",
        "    return Q_s"
      ],
      "metadata": {
        "id": "cPs0vdla6D8r"
      },
      "execution_count": null,
      "outputs": []
    },
    {
      "cell_type": "markdown",
      "source": [
        "# Problema proposto \n",
        "Uma piscina com as seguintes dimensões (25mx8mx1.5m). Com 200-m2 de área de lâmina d'água, localizada em Porto Alegre, RS. Estime a quantidade de energia requerica para manter a piscina a 28∘C em Abril. A piscina possui cobertura do tipo plastico bolha, que é usada por 12h a noite. Assumir que o vento local é de 3 m/s."
      ],
      "metadata": {
        "id": "g_kxVfvA4bBc"
      }
    },
    {
      "cell_type": "markdown",
      "source": [
        "# Input data"
      ],
      "metadata": {
        "id": "GpWyNVr_MqKt"
      }
    },
    {
      "cell_type": "code",
      "source": [
        "T_a = 16 #float(input(\"Enter the monthly average ambient temperature [°C]: \")) #monthly average ambient temperature\n",
        "T_p = 28 #float(input(\"Enter the desired temperature for the pool [°C]: \")) #monthly average ambient temperature\n",
        "Ta = T_a + 273.15\n",
        "Tp = T_p + 273.15\n",
        "L = 25 #float(input(\"Enter the length of the pool [m]: \"))\n",
        "W = 8 #float(input(\"Enter the width of the pool [m]: \"))\n",
        "A = L*W\n",
        "p = 1.5 # profundidade em metros\n",
        "pst = 0.92 #pool surface transmittance by Francey and Golding (1981)\n",
        "abs = 0.6 # pool absorptance by Francey and Golding (1981).\n",
        "\n",
        "N_days = 30 #número de dias em Abril\n",
        "N_sec = N_days*24*60*60 #número de segundos em Abril\n",
        "\n",
        "# Calculating the absorbed solar radiation (Q_s)\n",
        "Q_s = Absorbed_solar_radiation(A, HSP_MJ, pst, abs, N_days) # absorbed solar radiation (Q_s)\n",
        "print(f\"Absorbed solar radiation is: {Q_s:.2f} GJ\")\n",
        "\n",
        "# Calculating radiation heat losses\n",
        "K_T = 0.53 # índice de claridade médio mensal\n",
        "# For dew point temperatures of 10, 20, and 30∘C, the ratio Ts∕Ta is 0.938, 0.961, and 0.986, respectively. The average sky temperature is estimated to be: \n",
        "Ts = round(0.938*Ta)\n",
        "T_mask = round((1-K_T)*Ts+K_T*Ta) # The calculations will begin assuming the pool is uncovered at all times.\n",
        "sigma = 5.67e-8 # W/m2 K4\n",
        "N_sec #is the number of seconds in April.\n",
        "Q_rad = (A*sigma*(Tp**4 - T_mask**4)*N_sec)/(10**9)\n",
        "print(f\"Radiation heat losses is: \" +str(round(Q_rad ,2)) + \" GJ\")\n",
        "\n",
        "# Calculating evaporation losses\n",
        "Pa = 101.35 # ambient air pressure in kilopascals (kPa).\n",
        "V = 2.5 # wind velocity in m/s.\n",
        "# The monthly average humidity ratio is 0.008 and the saturation humidity ratio for the 25∘C pool is 0.020.\n",
        "\n",
        "Q_e = (A*Pa*(35*V+43*(Tp-Ta)**(1/3))*(0.020-0.008)*N_sec)/(10**9) # Estimation of evaporation losses of a swimming pool \n",
        "print(f\"Evaporation losses is: \" +str(round(Q_e ,2)) + \" GJ\")\n",
        "\n",
        "# Calculating convection heat losses for a swimming pool\n",
        "Q_c = Q_e*0.0006*((Tp-Ta)/(0.020-0.008)) # The convection losses are found from Equation 9.7.2 of Diffie e Beckmam (2020)\n",
        "print(f\"Convection heat losses is: \" +str(round(Q_c ,2)) + \" GJ\")\n",
        "\n",
        "\n",
        "# The loads for uncovered pool (Q_Lu), pool with half time film cover (Q_Lfc) an pool with bubble type cover (Q_Lb) are presented hereafter.\n",
        "Q_Lu = Q_rad + Q_e + Q_c - Q_s # If the pool is uncovered for the whole month, the monthly load is\n",
        "Q_Lfc = Q_rad + 0.5 *(Q_e) + Q_c - Q_s # If the pool is covered one-half of the time with a film cover, only the evaporation losses will be affected and the monthly load is\n",
        "Q_Lb = Q_rad + 0.5 *(Q_e + Q_c) - Q_s # If the cover is of the bubble type, the evaporation losses will be eliminated and convection losses will be reasonably small.\n",
        "print(f\"Heat losses for a uncovered pool is: \" +str(round(Q_Lu ,2)) + \" GJ\")\n",
        "print(f\"Heat losses for a film cover pool (one-half of the time): \" +str(round(Q_Lfc ,2)) + \" GJ\")\n",
        "print(f\"Heat losses for a bubble type cover pool: \" +str(round(Q_Lb ,2)) + \" GJ\")"
      ],
      "metadata": {
        "colab": {
          "base_uri": "https://localhost:8080/"
        },
        "id": "ZaAPO5n14MXN",
        "outputId": "435f9d7c-bafc-410b-b97c-3b2c3737ac66"
      },
      "execution_count": null,
      "outputs": [
        {
          "output_type": "stream",
          "name": "stdout",
          "text": [
            "Absorbed solar radiation is: 52.82 GJ\n",
            "Radiation heat losses is: 58.49 GJ\n",
            "Evaporation losses is: 117.23 GJ\n",
            "Convection heat losses is: 70.34 GJ\n",
            "Heat losses for a uncovered pool is: 193.25 GJ\n",
            "Heat losses for a film cover pool (one-half of the time): 134.63 GJ\n",
            "Heat losses for a bubble type cover pool: 99.46 GJ\n"
          ]
        }
      ]
    },
    {
      "cell_type": "code",
      "source": [
        "# Required inputs\n",
        "thermal_load = Q_Lu *(10**9/N_sec)  # in watts\n",
        "collector_efficiency = 0.71 # Eficiência média para coletores para piscina de polipropileno de acordo com tabela PROCEL\n",
        "collector_size = 2.4  # in square meters\n",
        "\n",
        "# Calculate the collector area\n",
        "collector_area = thermal_load / (irrad_total_media * collector_efficiency)\n",
        "\n",
        "# Determine the number of collectors\n",
        "num_collectors = round(collector_area / collector_size)\n",
        "\n",
        "print(\"Number of solar collectors required: \", num_collectors)"
      ],
      "metadata": {
        "colab": {
          "base_uri": "https://localhost:8080/"
        },
        "id": "zdvH3kke4MSW",
        "outputId": "7efdd73e-d44b-4907-f28b-9762eb380d44"
      },
      "execution_count": null,
      "outputs": [
        {
          "output_type": "stream",
          "name": "stdout",
          "text": [
            "Number of solar collectors required:  103\n"
          ]
        }
      ]
    },
    {
      "cell_type": "code",
      "source": [
        "import CoolProp.CoolProp as CP\n",
        "fluid = 'water'\n",
        "Vol = L*W*p #m3\n",
        "T_f = (Ta+Tp)/2\n",
        "rho = CP.PropsSI(\"D\", \"T\", T_f, \"P\", Pa * 1e3, fluid)\n",
        "cp = CP.PropsSI(\"CPMASS\", \"T\", T_f, \"P\", Pa * 1e3, fluid)\n",
        "\n",
        "Q_h = (rho*Vol*cp*(Tp-Ta))/(10**9)\n",
        "Q_T = Q_h + Q_Lfc\n",
        "print('The specific mass is: '+str(round(rho ,3))+' kg/m^3')\n",
        "print('The specific heat is: '+str(round(cp ,3))+' J/kg-K')\n",
        "print(f\"Heat added: \" +str(round(Q_h ,2)) + \" GJ\")"
      ],
      "metadata": {
        "colab": {
          "base_uri": "https://localhost:8080/"
        },
        "id": "0UQi2GhD4MP_",
        "outputId": "160dae60-a857-417e-a5fb-19437254b812"
      },
      "execution_count": null,
      "outputs": [
        {
          "output_type": "stream",
          "name": "stdout",
          "text": [
            "The specific mass is: 997.774 kg/m^3\n",
            "The specific heat is: 4182.783 J/kg-K\n",
            "Heat added: 15.02 GJ\n"
          ]
        }
      ]
    }
  ]
}